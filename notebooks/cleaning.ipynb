{
 "cells": [
  {
   "cell_type": "code",
   "execution_count": 1,
   "metadata": {},
   "outputs": [],
   "source": [
    "import pandas as pd \n",
    "import numpy as np "
   ]
  },
  {
   "cell_type": "code",
   "execution_count": 2,
   "metadata": {},
   "outputs": [],
   "source": [
    "dt = pd.read_csv('../data/usdbtc.csv')"
   ]
  },
  {
   "cell_type": "code",
   "execution_count": 9,
   "metadata": {},
   "outputs": [],
   "source": [
    "dt = dt[1500000:]\n",
    "#removing the first data for very little volatility\n"
   ]
  },
  {
   "cell_type": "code",
   "execution_count": 10,
   "metadata": {},
   "outputs": [
    {
     "data": {
      "text/html": [
       "<div>\n",
       "<style scoped>\n",
       "    .dataframe tbody tr th:only-of-type {\n",
       "        vertical-align: middle;\n",
       "    }\n",
       "\n",
       "    .dataframe tbody tr th {\n",
       "        vertical-align: top;\n",
       "    }\n",
       "\n",
       "    .dataframe thead th {\n",
       "        text-align: right;\n",
       "    }\n",
       "</style>\n",
       "<table border=\"1\" class=\"dataframe\">\n",
       "  <thead>\n",
       "    <tr style=\"text-align: right;\">\n",
       "      <th></th>\n",
       "      <th>Timestamp</th>\n",
       "      <th>Open</th>\n",
       "      <th>High</th>\n",
       "      <th>Low</th>\n",
       "      <th>Close</th>\n",
       "      <th>Volume_(BTC)</th>\n",
       "      <th>Volume_(Currency)</th>\n",
       "      <th>Weighted_Price</th>\n",
       "    </tr>\n",
       "  </thead>\n",
       "  <tbody>\n",
       "    <tr>\n",
       "      <th>1500000</th>\n",
       "      <td>1415317920</td>\n",
       "      <td>NaN</td>\n",
       "      <td>NaN</td>\n",
       "      <td>NaN</td>\n",
       "      <td>NaN</td>\n",
       "      <td>NaN</td>\n",
       "      <td>NaN</td>\n",
       "      <td>NaN</td>\n",
       "    </tr>\n",
       "    <tr>\n",
       "      <th>1500001</th>\n",
       "      <td>1415317980</td>\n",
       "      <td>NaN</td>\n",
       "      <td>NaN</td>\n",
       "      <td>NaN</td>\n",
       "      <td>NaN</td>\n",
       "      <td>NaN</td>\n",
       "      <td>NaN</td>\n",
       "      <td>NaN</td>\n",
       "    </tr>\n",
       "    <tr>\n",
       "      <th>1500002</th>\n",
       "      <td>1415318040</td>\n",
       "      <td>349.78</td>\n",
       "      <td>349.78</td>\n",
       "      <td>348.69</td>\n",
       "      <td>348.69</td>\n",
       "      <td>4.570000</td>\n",
       "      <td>1594.078300</td>\n",
       "      <td>348.813632</td>\n",
       "    </tr>\n",
       "    <tr>\n",
       "      <th>1500003</th>\n",
       "      <td>1415318100</td>\n",
       "      <td>349.79</td>\n",
       "      <td>349.79</td>\n",
       "      <td>349.79</td>\n",
       "      <td>349.79</td>\n",
       "      <td>0.709630</td>\n",
       "      <td>248.221478</td>\n",
       "      <td>349.790000</td>\n",
       "    </tr>\n",
       "    <tr>\n",
       "      <th>1500004</th>\n",
       "      <td>1415318160</td>\n",
       "      <td>349.79</td>\n",
       "      <td>349.96</td>\n",
       "      <td>349.79</td>\n",
       "      <td>349.96</td>\n",
       "      <td>2.169991</td>\n",
       "      <td>759.070026</td>\n",
       "      <td>349.803317</td>\n",
       "    </tr>\n",
       "  </tbody>\n",
       "</table>\n",
       "</div>"
      ],
      "text/plain": [
       "          Timestamp    Open    High     Low   Close  Volume_(BTC)  \\\n",
       "1500000  1415317920     NaN     NaN     NaN     NaN           NaN   \n",
       "1500001  1415317980     NaN     NaN     NaN     NaN           NaN   \n",
       "1500002  1415318040  349.78  349.78  348.69  348.69      4.570000   \n",
       "1500003  1415318100  349.79  349.79  349.79  349.79      0.709630   \n",
       "1500004  1415318160  349.79  349.96  349.79  349.96      2.169991   \n",
       "\n",
       "         Volume_(Currency)  Weighted_Price  \n",
       "1500000                NaN             NaN  \n",
       "1500001                NaN             NaN  \n",
       "1500002        1594.078300      348.813632  \n",
       "1500003         248.221478      349.790000  \n",
       "1500004         759.070026      349.803317  "
      ]
     },
     "execution_count": 10,
     "metadata": {},
     "output_type": "execute_result"
    }
   ],
   "source": [
    "dt.head(5)"
   ]
  },
  {
   "cell_type": "code",
   "execution_count": 11,
   "metadata": {},
   "outputs": [
    {
     "data": {
      "text/plain": [
       "Timestamp                 0\n",
       "Open                 428166\n",
       "High                 428166\n",
       "Low                  428166\n",
       "Close                428166\n",
       "Volume_(BTC)         428166\n",
       "Volume_(Currency)    428166\n",
       "Weighted_Price       428166\n",
       "dtype: int64"
      ]
     },
     "execution_count": 11,
     "metadata": {},
     "output_type": "execute_result"
    }
   ],
   "source": [
    "dt.isna().sum()"
   ]
  },
  {
   "cell_type": "code",
   "execution_count": 13,
   "metadata": {},
   "outputs": [],
   "source": [
    "dt = dt.fillna(method='ffill')"
   ]
  },
  {
   "cell_type": "code",
   "execution_count": 14,
   "metadata": {},
   "outputs": [
    {
     "data": {
      "text/plain": [
       "Timestamp            0\n",
       "Open                 2\n",
       "High                 2\n",
       "Low                  2\n",
       "Close                2\n",
       "Volume_(BTC)         2\n",
       "Volume_(Currency)    2\n",
       "Weighted_Price       2\n",
       "dtype: int64"
      ]
     },
     "execution_count": 14,
     "metadata": {},
     "output_type": "execute_result"
    }
   ],
   "source": [
    "dt.isna().sum()"
   ]
  },
  {
   "cell_type": "code",
   "execution_count": 4,
   "metadata": {},
   "outputs": [],
   "source": [
    "dt = dt[dt['Timestamp'] % 1800 == 0]"
   ]
  },
  {
   "cell_type": "markdown",
   "metadata": {},
   "source": [
    "after that the time between the rows is 15 minutes"
   ]
  },
  {
   "cell_type": "code",
   "execution_count": 5,
   "metadata": {},
   "outputs": [],
   "source": [
    "dt.to_csv('data/usdbtc.csv', columns=(['Timestamp', 'Open', 'High', 'Low', 'Close', 'Volume_(BTC)',\n",
    "       'Volume_(Currency)', 'Weighted_Price']))"
   ]
  },
  {
   "cell_type": "code",
   "execution_count": 6,
   "metadata": {},
   "outputs": [
    {
     "data": {
      "text/plain": [
       "Index(['Unnamed: 0', 'Timestamp', 'Open', 'High', 'Low', 'Close',\n",
       "       'Volume_(BTC)', 'Volume_(Currency)', 'Weighted_Price'],\n",
       "      dtype='object')"
      ]
     },
     "execution_count": 6,
     "metadata": {},
     "output_type": "execute_result"
    }
   ],
   "source": [
    "dt.columns"
   ]
  },
  {
   "cell_type": "code",
   "execution_count": 7,
   "metadata": {},
   "outputs": [
    {
     "data": {
      "text/html": [
       "<div>\n",
       "<style scoped>\n",
       "    .dataframe tbody tr th:only-of-type {\n",
       "        vertical-align: middle;\n",
       "    }\n",
       "\n",
       "    .dataframe tbody tr th {\n",
       "        vertical-align: top;\n",
       "    }\n",
       "\n",
       "    .dataframe thead th {\n",
       "        text-align: right;\n",
       "    }\n",
       "</style>\n",
       "<table border=\"1\" class=\"dataframe\">\n",
       "  <thead>\n",
       "    <tr style=\"text-align: right;\">\n",
       "      <th></th>\n",
       "      <th>Unnamed: 0</th>\n",
       "      <th>Timestamp</th>\n",
       "      <th>Open</th>\n",
       "      <th>High</th>\n",
       "      <th>Low</th>\n",
       "      <th>Close</th>\n",
       "      <th>Volume_(BTC)</th>\n",
       "      <th>Volume_(Currency)</th>\n",
       "      <th>Weighted_Price</th>\n",
       "    </tr>\n",
       "  </thead>\n",
       "  <tbody>\n",
       "    <tr>\n",
       "      <th>0</th>\n",
       "      <td>0</td>\n",
       "      <td>1415318400</td>\n",
       "      <td>349.99</td>\n",
       "      <td>349.99</td>\n",
       "      <td>349.99</td>\n",
       "      <td>349.99</td>\n",
       "      <td>0.015944</td>\n",
       "      <td>5.580122</td>\n",
       "      <td>349.990000</td>\n",
       "    </tr>\n",
       "    <tr>\n",
       "      <th>1</th>\n",
       "      <td>2</td>\n",
       "      <td>1415320200</td>\n",
       "      <td>349.25</td>\n",
       "      <td>349.25</td>\n",
       "      <td>349.24</td>\n",
       "      <td>349.24</td>\n",
       "      <td>0.416000</td>\n",
       "      <td>145.284094</td>\n",
       "      <td>349.240384</td>\n",
       "    </tr>\n",
       "  </tbody>\n",
       "</table>\n",
       "</div>"
      ],
      "text/plain": [
       "   Unnamed: 0   Timestamp    Open    High     Low   Close  Volume_(BTC)  \\\n",
       "0           0  1415318400  349.99  349.99  349.99  349.99      0.015944   \n",
       "1           2  1415320200  349.25  349.25  349.24  349.24      0.416000   \n",
       "\n",
       "   Volume_(Currency)  Weighted_Price  \n",
       "0           5.580122      349.990000  \n",
       "1         145.284094      349.240384  "
      ]
     },
     "execution_count": 7,
     "metadata": {},
     "output_type": "execute_result"
    }
   ],
   "source": [
    "dt = pd.read_csv('../data/usdbtc.csv')\n",
    "dt.head(2)"
   ]
  },
  {
   "cell_type": "code",
   "execution_count": 8,
   "metadata": {},
   "outputs": [],
   "source": [
    "dt.drop(dt.columns[0], axis=1, inplace=True)\n",
    "dt.to_csv('../data/usdbtc.csv')"
   ]
  }
 ],
 "metadata": {
  "interpreter": {
   "hash": "ed1d65b323511e79e3883181e3a0522b56978d2b44b523bcabdc2f6cd123adee"
  },
  "kernelspec": {
   "display_name": "Python 3.10.5 ('cookiecutter-sklearn')",
   "language": "python",
   "name": "python3"
  },
  "language_info": {
   "codemirror_mode": {
    "name": "ipython",
    "version": 3
   },
   "file_extension": ".py",
   "mimetype": "text/x-python",
   "name": "python",
   "nbconvert_exporter": "python",
   "pygments_lexer": "ipython3",
   "version": "3.7.13"
  },
  "orig_nbformat": 4
 },
 "nbformat": 4,
 "nbformat_minor": 2
}
