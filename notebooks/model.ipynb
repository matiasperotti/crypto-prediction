{
 "cells": [
  {
   "cell_type": "code",
   "execution_count": 1,
   "metadata": {},
   "outputs": [],
   "source": [
    "import pandas as pd \n",
    "import numpy as np \n",
    "import joblib\n",
    "import matplotlib.pyplot as plt"
   ]
  },
  {
   "cell_type": "code",
   "execution_count": 2,
   "metadata": {},
   "outputs": [],
   "source": [
    "from sklearn.model_selection import (\n",
    "    cross_val_score, KFold, train_test_split\n",
    ")\n",
    "from sklearn.ensemble import RandomForestRegressor\n",
    "from sklearn.metrics import mean_squared_error"
   ]
  },
  {
   "cell_type": "code",
   "execution_count": 6,
   "metadata": {},
   "outputs": [
    {
     "data": {
      "text/html": [
       "<div>\n",
       "<style scoped>\n",
       "    .dataframe tbody tr th:only-of-type {\n",
       "        vertical-align: middle;\n",
       "    }\n",
       "\n",
       "    .dataframe tbody tr th {\n",
       "        vertical-align: top;\n",
       "    }\n",
       "\n",
       "    .dataframe thead th {\n",
       "        text-align: right;\n",
       "    }\n",
       "</style>\n",
       "<table border=\"1\" class=\"dataframe\">\n",
       "  <thead>\n",
       "    <tr style=\"text-align: right;\">\n",
       "      <th></th>\n",
       "      <th>Timestamp</th>\n",
       "      <th>Open</th>\n",
       "      <th>atr</th>\n",
       "      <th>ad</th>\n",
       "      <th>prev_10d_slope</th>\n",
       "      <th>prev_5d_slope</th>\n",
       "      <th>obv</th>\n",
       "      <th>rsi2</th>\n",
       "      <th>mfi2</th>\n",
       "      <th>macd</th>\n",
       "      <th>target</th>\n",
       "    </tr>\n",
       "  </thead>\n",
       "  <tbody>\n",
       "    <tr>\n",
       "      <th>0</th>\n",
       "      <td>1417046400</td>\n",
       "      <td>368.50</td>\n",
       "      <td>1.79</td>\n",
       "      <td>-102650.0</td>\n",
       "      <td>-0.04</td>\n",
       "      <td>0.09</td>\n",
       "      <td>380657.97</td>\n",
       "      <td>-48.91</td>\n",
       "      <td>-93.06</td>\n",
       "      <td>-1.69</td>\n",
       "      <td>0.02</td>\n",
       "    </tr>\n",
       "    <tr>\n",
       "      <th>1</th>\n",
       "      <td>1417048200</td>\n",
       "      <td>371.02</td>\n",
       "      <td>1.78</td>\n",
       "      <td>-102650.0</td>\n",
       "      <td>-0.05</td>\n",
       "      <td>0.07</td>\n",
       "      <td>380652.39</td>\n",
       "      <td>-47.78</td>\n",
       "      <td>-93.08</td>\n",
       "      <td>-1.68</td>\n",
       "      <td>0.03</td>\n",
       "    </tr>\n",
       "    <tr>\n",
       "      <th>2</th>\n",
       "      <td>1417050000</td>\n",
       "      <td>371.91</td>\n",
       "      <td>1.78</td>\n",
       "      <td>-102604.5</td>\n",
       "      <td>-0.05</td>\n",
       "      <td>0.08</td>\n",
       "      <td>380697.96</td>\n",
       "      <td>-49.90</td>\n",
       "      <td>-93.98</td>\n",
       "      <td>-1.64</td>\n",
       "      <td>0.02</td>\n",
       "    </tr>\n",
       "    <tr>\n",
       "      <th>3</th>\n",
       "      <td>1417051800</td>\n",
       "      <td>371.06</td>\n",
       "      <td>1.78</td>\n",
       "      <td>-102668.0</td>\n",
       "      <td>-0.06</td>\n",
       "      <td>0.08</td>\n",
       "      <td>380634.38</td>\n",
       "      <td>-47.91</td>\n",
       "      <td>-94.78</td>\n",
       "      <td>-1.63</td>\n",
       "      <td>0.03</td>\n",
       "    </tr>\n",
       "    <tr>\n",
       "      <th>4</th>\n",
       "      <td>1417053600</td>\n",
       "      <td>369.05</td>\n",
       "      <td>1.78</td>\n",
       "      <td>-104370.2</td>\n",
       "      <td>-0.06</td>\n",
       "      <td>0.07</td>\n",
       "      <td>378932.27</td>\n",
       "      <td>-45.63</td>\n",
       "      <td>-95.37</td>\n",
       "      <td>-1.66</td>\n",
       "      <td>0.03</td>\n",
       "    </tr>\n",
       "  </tbody>\n",
       "</table>\n",
       "</div>"
      ],
      "text/plain": [
       "    Timestamp    Open   atr        ad  prev_10d_slope  prev_5d_slope  \\\n",
       "0  1417046400  368.50  1.79 -102650.0           -0.04           0.09   \n",
       "1  1417048200  371.02  1.78 -102650.0           -0.05           0.07   \n",
       "2  1417050000  371.91  1.78 -102604.5           -0.05           0.08   \n",
       "3  1417051800  371.06  1.78 -102668.0           -0.06           0.08   \n",
       "4  1417053600  369.05  1.78 -104370.2           -0.06           0.07   \n",
       "\n",
       "         obv   rsi2   mfi2  macd  target  \n",
       "0  380657.97 -48.91 -93.06 -1.69    0.02  \n",
       "1  380652.39 -47.78 -93.08 -1.68    0.03  \n",
       "2  380697.96 -49.90 -93.98 -1.64    0.02  \n",
       "3  380634.38 -47.91 -94.78 -1.63    0.03  \n",
       "4  378932.27 -45.63 -95.37 -1.66    0.03  "
      ]
     },
     "execution_count": 6,
     "metadata": {},
     "output_type": "execute_result"
    }
   ],
   "source": [
    "dt = pd.read_csv('../data/btcdata.csv')\n",
    "dt.pop('Unnamed: 0')\n",
    "dt.head()"
   ]
  },
  {
   "cell_type": "code",
   "execution_count": 15,
   "metadata": {},
   "outputs": [
    {
     "data": {
      "text/plain": [
       "(array([7.0000e+00, 1.1000e+01, 3.0000e+01, 2.5000e+01, 1.8000e+01,\n",
       "        3.4000e+01, 4.9000e+01, 9.2000e+01, 1.3200e+02, 1.6700e+02,\n",
       "        3.7900e+02, 7.4900e+02, 1.2820e+03, 4.0870e+03, 2.3001e+04,\n",
       "        6.8429e+04, 6.9500e+03, 2.0920e+03, 8.4800e+02, 6.4900e+02,\n",
       "        4.7900e+02, 2.0600e+02, 2.0900e+02, 2.1700e+02, 1.8100e+02,\n",
       "        1.5600e+02, 1.4900e+02, 6.4000e+01, 1.0000e+01, 1.0000e+00]),\n",
       " array([-48.38      , -45.16533333, -41.95066667, -38.736     ,\n",
       "        -35.52133333, -32.30666667, -29.092     , -25.87733333,\n",
       "        -22.66266667, -19.448     , -16.23333333, -13.01866667,\n",
       "         -9.804     ,  -6.58933333,  -3.37466667,  -0.16      ,\n",
       "          3.05466667,   6.26933333,   9.484     ,  12.69866667,\n",
       "         15.91333333,  19.128     ,  22.34266667,  25.55733333,\n",
       "         28.772     ,  31.98666667,  35.20133333,  38.416     ,\n",
       "         41.63066667,  44.84533333,  48.06      ]),\n",
       " <BarContainer object of 30 artists>)"
      ]
     },
     "execution_count": 15,
     "metadata": {},
     "output_type": "execute_result"
    },
    {
     "data": {
      "image/png": "[encoded data removed]",
      "text/plain": [
       "<Figure size 432x288 with 1 Axes>"
      ]
     },
     "metadata": {
      "needs_background": "light"
     },
     "output_type": "display_data"
    }
   ],
   "source": [
    "plt.hist(dt['target'], bins=30)"
   ]
  },
  {
   "cell_type": "code",
   "execution_count": 26,
   "metadata": {},
   "outputs": [
    {
     "data": {
      "text/plain": [
       "0          0.02\n",
       "1          0.03\n",
       "2          0.02\n",
       "3          0.03\n",
       "4          0.03\n",
       "          ...  \n",
       "110698    29.61\n",
       "110699    28.91\n",
       "110700    28.18\n",
       "110701    27.58\n",
       "110702    25.97\n",
       "Name: target, Length: 110703, dtype: float64"
      ]
     },
     "execution_count": 26,
     "metadata": {},
     "output_type": "execute_result"
    }
   ],
   "source": [
    "dt['target']"
   ]
  },
  {
   "cell_type": "code",
   "execution_count": 22,
   "metadata": {},
   "outputs": [
    {
     "name": "stdout",
     "output_type": "stream",
     "text": [
      "14.630084792791983 max\n",
      "-13.629190327420673 min\n"
     ]
    }
   ],
   "source": [
    "print(dt['target'].mean() + 3 * dt['target'].std(), 'max')\n",
    "print(dt['target'].mean() - 3 * dt['target'].std(), 'min')\n"
   ]
  },
  {
   "cell_type": "code",
   "execution_count": 39,
   "metadata": {},
   "outputs": [],
   "source": [
    "dt = dt[dt['target'] < 14.5]\n",
    "dt = dt[dt['target'] > -13.5]"
   ]
  },
  {
   "cell_type": "code",
   "execution_count": 51,
   "metadata": {},
   "outputs": [],
   "source": [
    "X = dt[['atr', 'ad', 'prev_10d_slope', 'prev_5d_slope', 'obv', 'rsi2', 'mfi2', 'macd']]\n",
    "y = dt['target']\n",
    "X_train, X_test, y_train, y_test = train_test_split(X, y, test_size=0.4, random_state=1)"
   ]
  },
  {
   "cell_type": "code",
   "execution_count": 53,
   "metadata": {},
   "outputs": [
    {
     "name": "stdout",
     "output_type": "stream",
     "text": [
      "[0.18227000595136594, 0.18784185877817317, 0.17227283903655102, 0.21107186541073544]\n",
      "0.1883641422942064\n"
     ]
    }
   ],
   "source": [
    "kf = KFold(n_splits=4, shuffle=True, random_state=1)\n",
    "mse_values = []\n",
    "\n",
    "for train, test in kf.split(dt):\n",
    "\n",
    "    X_train = X.iloc[train]\n",
    "    y_train = y.iloc[train]\n",
    "    X_test = X.iloc[test]\n",
    "    y_test = y.iloc[test]\n",
    "\n",
    "    model = RandomForestRegressor().fit(X_train, y_train)\n",
    "    predict = model.predict(X_test)\n",
    "    mse_values.append(mean_squared_error(y_test, predict))\n",
    "\n",
    "print(mse_values)\n",
    "print(np.mean(mse_values))"
   ]
  },
  {
   "cell_type": "code",
   "execution_count": 55,
   "metadata": {},
   "outputs": [
    {
     "data": {
      "text/plain": [
       "['../models/model2.plk']"
      ]
     },
     "execution_count": 55,
     "metadata": {},
     "output_type": "execute_result"
    }
   ],
   "source": [
    "joblib.dump(model, '../models/model2.plk')"
   ]
  }
 ],
 "metadata": {
  "interpreter": {
   "hash": "1c8568d7b8e74ba9c3b7d1073f4d0580d21fc1e565fd902e97e2a8b76a56e191"
  },
  "kernelspec": {
   "display_name": "Python 3.7.13 ('sklearn')",
   "language": "python",
   "name": "python3"
  },
  "language_info": {
   "codemirror_mode": {
    "name": "ipython",
    "version": 3
   },
   "file_extension": ".py",
   "mimetype": "text/x-python",
   "name": "python",
   "nbconvert_exporter": "python",
   "pygments_lexer": "ipython3",
   "version": "3.7.13"
  },
  "orig_nbformat": 4
 },
 "nbformat": 4,
 "nbformat_minor": 2
}
